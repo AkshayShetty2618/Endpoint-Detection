{
 "cells": [
  {
   "cell_type": "markdown",
   "id": "f197212b",
   "metadata": {},
   "source": [
    "# HSV Analysis"
   ]
  },
  {
   "cell_type": "code",
   "execution_count": null,
   "id": "030e7cd4",
   "metadata": {},
   "outputs": [],
   "source": [
    "import cv2\n",
    "import numpy as np\n",
    "import matplotlib.pyplot  as plt\n",
    "from mpl_toolkits.mplot3d import Axes3D\n",
    "from matplotlib import cm\n",
    "from matplotlib import colors\n",
    "from matplotlib.colors import hsv_to_rgb"
   ]
  },
  {
   "cell_type": "code",
   "execution_count": null,
   "id": "6accd7df",
   "metadata": {},
   "outputs": [],
   "source": [
    "impath = r'F:\\TUhh\\Thesis\\images\\Trial2\\label\\valid\\Image_273.jpg'\n",
    "img = cv2.imread(impath)"
   ]
  },
  {
   "cell_type": "code",
   "execution_count": null,
   "id": "dd0cf661",
   "metadata": {},
   "outputs": [],
   "source": [
    "img = cv2.cvtColor(img,cv2.COLOR_BGR2RGB)\n",
    "plt.imshow(img)\n",
    "plt.show()"
   ]
  },
  {
   "cell_type": "code",
   "execution_count": null,
   "id": "961d289f",
   "metadata": {},
   "outputs": [],
   "source": [
    "r, g, b = cv2.split(img)\n",
    "fig = plt.figure()\n",
    "axis = fig.add_subplot(1, 1, 1, projection=\"3d\")\n",
    "pixel_colors = img.reshape((np.shape(img)[0]*np.shape(img)[1], 3))\n",
    "norm = colors.Normalize(vmin=-1.,vmax=1.)\n",
    "norm.autoscale(pixel_colors)\n",
    "pixel_colors = norm(pixel_colors).tolist()\n",
    "axis.scatter(r.flatten(), g.flatten(), b.flatten(), facecolors=pixel_colors, marker=\".\")\n",
    "axis.set_xlabel(\"Red\")\n",
    "axis.set_ylabel(\"Green\")\n",
    "axis.set_zlabel(\"Blue\")\n",
    "plt.show()"
   ]
  },
  {
   "cell_type": "code",
   "execution_count": null,
   "id": "51b8737b",
   "metadata": {},
   "outputs": [],
   "source": [
    "pixel_colors = img.reshape((np.shape(img)[0]*np.shape(img)[1], 3))\n",
    "norm = colors.Normalize(vmin=-1.,vmax=1.)\n",
    "norm.autoscale(pixel_colors)\n",
    "pixel_colors = norm(pixel_colors).tolist()"
   ]
  },
  {
   "cell_type": "code",
   "execution_count": null,
   "id": "3fdd70bf",
   "metadata": {},
   "outputs": [],
   "source": [
    "axis.scatter(r.flatten(), g.flatten(), b.flatten(), facecolors=pixel_colors, marker=\".\")\n",
    "axis.set_xlabel(\"Red\")\n",
    "axis.set_ylabel(\"Green\")\n",
    "axis.set_zlabel(\"Blue\")\n",
    "plt.show()"
   ]
  },
  {
   "cell_type": "code",
   "execution_count": null,
   "id": "f834b859",
   "metadata": {},
   "outputs": [],
   "source": [
    "hsv = cv2.cvtColor(img, cv2.COLOR_RGB2HSV)"
   ]
  },
  {
   "cell_type": "code",
   "execution_count": null,
   "id": "db9e5fe4",
   "metadata": {},
   "outputs": [],
   "source": [
    "h, s, v = cv2.split(hsv)\n",
    "fig = plt.figure()\n",
    "axis = fig.add_subplot(1, 1, 1, projection=\"3d\")\n",
    "axis.scatter(h.flatten(), s.flatten(), v.flatten(), facecolors=pixel_colors, marker=\".\")\n",
    "axis.set_xlabel(\"Hue\")\n",
    "axis.set_ylabel(\"Saturation\")\n",
    "axis.set_zlabel(\"Value\")\n",
    "plt.show()"
   ]
  },
  {
   "cell_type": "code",
   "execution_count": null,
   "id": "584acd07",
   "metadata": {},
   "outputs": [],
   "source": [
    "plt.figure()\n",
    "\n",
    "axis = plt.subplot(211)\n",
    "axis.scatter(h.flatten(), v.flatten(), facecolors=pixel_colors, marker=\".\")\n",
    "axis.set_xlabel(\"Hue\")\n",
    "axis.set_ylabel(\"Value\")\n",
    "\n",
    "axis1 = plt.subplot(212)\n",
    "axis1.scatter(s.flatten(), v.flatten(), facecolors=pixel_colors, marker=\".\")\n",
    "axis1.set_xlabel(\"Saturation\")\n",
    "axis1.set_ylabel(\"Value\")\n",
    "\n",
    "plt.show()"
   ]
  },
  {
   "cell_type": "markdown",
   "id": "e1d0c4e8",
   "metadata": {},
   "source": [
    "# Pixel Desnity Segmentation"
   ]
  },
  {
   "cell_type": "code",
   "execution_count": null,
   "id": "ce63e896",
   "metadata": {},
   "outputs": [],
   "source": [
    "import cv2\n",
    "import time\n",
    "import numpy as np\n",
    "import matplotlib.pyplot as plt"
   ]
  },
  {
   "cell_type": "code",
   "execution_count": null,
   "id": "381071d5",
   "metadata": {},
   "outputs": [],
   "source": [
    "cfg = r'F:\\TUhh\\Thesis\\YOLO Colab Files\\416_tiny_trial3\\yolov4-tiny-custom.cfg'\n",
    "weight = r'F:\\TUhh\\Thesis\\YOLO Colab Files\\416_tiny_trial3\\yolov4-tiny-custom_best.weights'\n",
    "net = cv2.dnn.readNetFromDarknet(cfg, weight)\n",
    "classes = ['Corrosion']"
   ]
  },
  {
   "cell_type": "code",
   "execution_count": null,
   "id": "87d2f6a0",
   "metadata": {},
   "outputs": [],
   "source": [
    "#impath = r'F:\\TUhh\\Thesis\\images\\Trial2\\label\\valid\\Image_184.jpg'\n",
    "impath = r'F:\\TUhh\\Thesis\\images\\sample1_5.JPG'\n",
    "img = cv2.imread(impath)\n",
    "img = cv2.resize(img,(416,416))\n",
    "hight,width,_ = img.shape\n",
    "det=1\n",
    "\n",
    "Img = cv2.cvtColor(img,cv2.COLOR_BGR2RGB)\n",
    "hsv = cv2.cvtColor(Img, cv2.COLOR_RGB2HSV)\n",
    "\n",
    "m = Img.shape[0]\n",
    "n = Img.shape[1]\n",
    "template = np.ones((m,n))\n",
    "template = template.astype(int)\n",
    "\n",
    "rn = template\n",
    "gn = template\n",
    "bn = template\n",
    "\n",
    "\n",
    "blob = cv2.dnn.blobFromImage(img, 1/255,(416,416),(0,0,0),swapRB = True,crop= False)\n",
    "\n",
    "net.setInput(blob)\n",
    "\n",
    "output_layers_name = net.getUnconnectedOutLayersNames()\n",
    "\n",
    "layerOutputs = net.forward(output_layers_name)\n",
    "\n",
    "boxes =[]\n",
    "confidences = []\n",
    "class_ids = []\n",
    "\n",
    "for output in layerOutputs:\n",
    "    for detection in output:\n",
    "        score = detection[5:]\n",
    "        class_id = np.argmax(score)\n",
    "        confidence = score[class_id]\n",
    "        if confidence > 0.5:\n",
    "            center_x = int(detection[0] * width)\n",
    "            center_y = int(detection[1] * hight)\n",
    "            w = int(detection[2] * width)\n",
    "            h = int(detection[3]* hight)\n",
    "            x = int(center_x - w/2)\n",
    "            y = int(center_y - h/2)\n",
    "            boxes.append([x,y,w,h])\n",
    "            confidences.append((float(confidence)))\n",
    "            class_ids.append(class_id)\n",
    "\n",
    "indexes = cv2.dnn.NMSBoxes(boxes,confidences,.5,.4)\n",
    "\n",
    "font = cv2.FONT_HERSHEY_PLAIN\n",
    "\n",
    "if  len(indexes)>0:\n",
    "    for i in indexes.flatten():\n",
    "        x,y,w,h = boxes[i]\n",
    "        for x1 in range(y,y+h):\n",
    "            for y1 in range(x,x+w):\n",
    "                gn[x1][y1] = 255\n",
    "        label = str(classes[class_ids[i]])\n",
    "        confidence = str(round(confidences[i],2))\n",
    "        color = (0,0,255)\n",
    "        cv2.rectangle(img,(x,y),(x+w,y+h),color,2)\n",
    "        cv2.putText(img,str(det), (x,y),font,2,color,2)\n",
    "        det=det+1\n",
    "                    \n",
    "    skin = np.dstack([rn, gn, bn])\n",
    "    \n",
    "    blight_mask = (0, 0, 0)\n",
    "    bdark_mask = (20, 180, 120)\n",
    "    rlight_mask = (0, 125, 0)\n",
    "    rdark_mask = (20, 180,180)\n",
    "    mask = cv2.inRange(hsv, blight_mask, bdark_mask)\n",
    "    rmask = cv2.inRange(hsv, rlight_mask, rdark_mask)\n",
    "    m = cv2.bitwise_not(mask)\n",
    "    rm = cv2.bitwise_not(rmask)\n",
    "    skinPatch = cv2.bitwise_and(skin,skin,mask = mask)\n",
    "    skinPatch1 = cv2.bitwise_and(skin,skin,mask = rmask) \n",
    "    newSkin = cv2.bitwise_or(skinPatch,skinPatch1)\n",
    "    newSkin = newSkin.astype(np.uint8)\n",
    "    gry = cv2.cvtColor(newSkin, cv2.COLOR_RGB2GRAY)\n",
    "    plt.imshow(gry)\n",
    "    cv2.imwrite(r'F:\\TUhh\\Thesis\\Documentation\\pixDensresult7.jpg', gry)\n",
    "    \n",
    "            \n",
    "    for i in indexes.flatten():\n",
    "        x,y,w,h = boxes[i]\n",
    "        ctr = 0\n",
    "        for x1 in range (y,y+h):\n",
    "            for y1 in range(x,x+w):\n",
    "                if gry[x1][y1]==255:\n",
    "                    ctr = ctr+1\n",
    "        print(\"number of pixels:\"+ str(ctr))\n",
    "\n",
    "            \n",
    "\n",
    "\n",
    "cv2.imwrite(r'F:\\TUhh\\Thesis\\Documentation\\pixDensresult8.jpg', img)\n",
    "cv2.waitKey(0) \n",
    "cv2.destroyAllWindows()"
   ]
  },
  {
   "cell_type": "code",
   "execution_count": null,
   "id": "43be375d",
   "metadata": {},
   "outputs": [],
   "source": []
  },
  {
   "cell_type": "code",
   "execution_count": null,
   "id": "fd1c4503",
   "metadata": {},
   "outputs": [],
   "source": []
  }
 ],
 "metadata": {
  "kernelspec": {
   "display_name": "Python 3",
   "language": "python",
   "name": "python3"
  },
  "language_info": {
   "codemirror_mode": {
    "name": "ipython",
    "version": 3
   },
   "file_extension": ".py",
   "mimetype": "text/x-python",
   "name": "python",
   "nbconvert_exporter": "python",
   "pygments_lexer": "ipython3",
   "version": "3.7.4"
  }
 },
 "nbformat": 4,
 "nbformat_minor": 5
}

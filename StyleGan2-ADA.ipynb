{
  "cells": [
    {
      "cell_type": "code",
      "execution_count": null,
      "metadata": {
        "id": "uMPKIzwwYbzL",
        "colab": {
          "base_uri": "https://localhost:8080/"
        },
        "outputId": "cc89af42-5f62-4bbc-9523-7033cb431d25"
      },
      "outputs": [
        {
          "output_type": "stream",
          "name": "stdout",
          "text": [
            "TensorFlow 1.x selected.\n"
          ]
        }
      ],
      "source": [
        "%tensorflow_version 1.x"
      ]
    },
    {
      "cell_type": "code",
      "execution_count": null,
      "metadata": {
        "id": "dA7gKwI5cjNN"
      },
      "outputs": [],
      "source": [
        ""
      ]
    },
    {
      "cell_type": "code",
      "execution_count": null,
      "metadata": {
        "colab": {
          "base_uri": "https://localhost:8080/"
        },
        "id": "MMzFi1kYZJ2L",
        "outputId": "b91b93b5-3b91-4778-c98c-ed95f69b887b"
      },
      "outputs": [
        {
          "output_type": "stream",
          "name": "stdout",
          "text": [
            "Sat Mar  5 16:46:35 2022       \n",
            "+-----------------------------------------------------------------------------+\n",
            "| NVIDIA-SMI 460.32.03    Driver Version: 460.32.03    CUDA Version: 11.2     |\n",
            "|-------------------------------+----------------------+----------------------+\n",
            "| GPU  Name        Persistence-M| Bus-Id        Disp.A | Volatile Uncorr. ECC |\n",
            "| Fan  Temp  Perf  Pwr:Usage/Cap|         Memory-Usage | GPU-Util  Compute M. |\n",
            "|                               |                      |               MIG M. |\n",
            "|===============================+======================+======================|\n",
            "|   0  Tesla T4            Off  | 00000000:00:04.0 Off |                    0 |\n",
            "| N/A   38C    P8     9W /  70W |      0MiB / 15109MiB |      0%      Default |\n",
            "|                               |                      |                  N/A |\n",
            "+-------------------------------+----------------------+----------------------+\n",
            "                                                                               \n",
            "+-----------------------------------------------------------------------------+\n",
            "| Processes:                                                                  |\n",
            "|  GPU   GI   CI        PID   Type   Process name                  GPU Memory |\n",
            "|        ID   ID                                                   Usage      |\n",
            "|=============================================================================|\n",
            "|  No running processes found                                                 |\n",
            "+-----------------------------------------------------------------------------+\n"
          ]
        }
      ],
      "source": [
        "!nvidia-smi"
      ]
    },
    {
      "cell_type": "code",
      "execution_count": null,
      "metadata": {
        "colab": {
          "base_uri": "https://localhost:8080/",
          "height": 35
        },
        "id": "GHl4MbxTZJ5C",
        "outputId": "2bbf3fbd-d640-4aeb-9764-43717a2293a6"
      },
      "outputs": [
        {
          "output_type": "execute_result",
          "data": {
            "application/vnd.google.colaboratory.intrinsic+json": {
              "type": "string"
            },
            "text/plain": [
              "'1.15.2'"
            ]
          },
          "metadata": {},
          "execution_count": 3
        }
      ],
      "source": [
        "import tensorflow as tf\n",
        "\n",
        "tf.__version__"
      ]
    },
    {
      "cell_type": "code",
      "execution_count": null,
      "metadata": {
        "colab": {
          "base_uri": "https://localhost:8080/"
        },
        "id": "jmaqdm6vZJ7e",
        "outputId": "4e01b0eb-158a-4187-f082-9e49037da301"
      },
      "outputs": [
        {
          "output_type": "stream",
          "name": "stdout",
          "text": [
            "/content/drive/My Drive/StyleGan2/stylegan2-ada\n"
          ]
        }
      ],
      "source": [
        "import os\n",
        "if os.path.isdir(\"/content/drive/My Drive/StyleGan2/stylegan2-ada\"):\n",
        "    %cd \"/content/drive/My Drive/StyleGan2/stylegan2-ada\"\n",
        "else:\n",
        "    #install script\n",
        "    %cd \"/content/drive/My Drive/\"\n",
        "    #!mkdir StyleGan2\n",
        "    %cd StyleGan2\n",
        "    !git clone https://github.com/NVlabs/stylegan2-ada.git\n",
        "    %cd stylegan2-ada\n",
        "    !mkdir downloads\n",
        "    !mkdir datasets"
      ]
    },
    {
      "cell_type": "code",
      "execution_count": null,
      "metadata": {
        "colab": {
          "base_uri": "https://localhost:8080/"
        },
        "id": "Jqk9igWAZJ-K",
        "outputId": "ca7faa31-e404-4cd8-863a-98182cfdcb8f"
      },
      "outputs": [
        {
          "output_type": "stream",
          "name": "stdout",
          "text": [
            "Loading images from \"/content/drive/MyDrive/StyleGan2/data\"\n",
            "Creating dataset \"./datasets/data\"\n",
            "dataset_tool.py:96: DeprecationWarning: tostring() is deprecated. Use tobytes() instead.\n",
            "  'data': tf.train.Feature(bytes_list=tf.train.BytesList(value=[quant.tostring()]))}))\n",
            "Added 553 images.\n"
          ]
        }
      ],
      "source": [
        "#update this to the path to your image folder\n",
        "dataset_path = \"/content/drive/MyDrive/StyleGan2/data\"\n",
        "#give your dataset a name\n",
        "dataset_name = \"data\"\n",
        "\n",
        "#you don't need to edit anything here\n",
        "!python dataset_tool.py create_from_images ./datasets/{dataset_name} {dataset_path}"
      ]
    },
    {
      "cell_type": "code",
      "execution_count": null,
      "metadata": {
        "id": "h8tgqwnRZKAs"
      },
      "outputs": [],
      "source": [
        "#this name must EXACTLY match the dataset name you used when creating the .tfrecords file\n",
        "dataset_name = \"data\"\n",
        "#how often should the model generate samples and a .pkl file\n",
        "snapshot_count = 10\n",
        "#should the images be mirrored left to right?\n",
        "mirrored = True\n",
        "#should the images be mirrored top to bottom?\n",
        "mirroredY = False\n",
        "#metrics? \n",
        "metric_list = None\n",
        "#augments\n",
        "augs = \"bg\"\n",
        "\n",
        "#\n",
        "# this is the most important cell to update\n",
        "#\n",
        "# running it for the first time? set it to ffhq(+resolution)\n",
        "# resuming? get the path to your latest .pkl file and use that\n",
        "#resume_from = \"ffhq1024\"\n",
        "resume_from = \"/content/drive/MyDrive/StyleGan2/stylegan2-ada/results/00002-data-mirror-auto1-bg-resumecustom/network-snapshot-000032.pkl\" "
      ]
    },
    {
      "cell_type": "code",
      "execution_count": null,
      "metadata": {
        "id": "3RvBo9rFZKDZ"
      },
      "outputs": [],
      "source": [
        "!python train.py --outdir ./results --snap={snapshot_count} --data=./datasets/{dataset_name} --augpipe={augs} --mirror={mirrored} --metrics={metric_list} --resume={resume_from} --augpipe=\"bg\""
      ]
    },
    {
      "cell_type": "code",
      "execution_count": null,
      "metadata": {
        "id": "SvJ_ZGIeZKGA"
      },
      "outputs": [],
      "source": [
        "!python generate.py --outdir ./gen --trunc=0.5 --seeds=201-400 --network={resume_from}"
      ]
    },
    {
      "cell_type": "code",
      "execution_count": null,
      "metadata": {
        "id": "RDJoyLfBZKIk"
      },
      "outputs": [],
      "source": [
        "# trunc determines the diversity of the images higher trunc more divers but lower res"
      ]
    },
    {
      "cell_type": "code",
      "execution_count": null,
      "metadata": {
        "id": "AdEYY1fXZKLU",
        "colab": {
          "base_uri": "https://localhost:8080/"
        },
        "outputId": "8ae21f09-5336-411d-cf5b-b566bba8bcad"
      },
      "outputs": [
        {
          "output_type": "stream",
          "name": "stdout",
          "text": [
            "Loading network from \"/content/drive/MyDrive/StyleGan2/stylegan2-ada/results/00002-data-mirror-auto1-bg-resumecustom/network-snapshot-000032.pkl\"...\n",
            "Setting up TensorFlow plugin \"fused_bias_act.cu\": Compiling... Loading... Done.\n",
            "Setting up TensorFlow plugin \"upfirdn_2d.cu\": Compiling... Loading... Done.\n",
            "\n",
            "Gs                            Params    OutputShape         WeightShape     \n",
            "---                           ---       ---                 ---             \n",
            "latents_in                    -         (?, 512)            -               \n",
            "labels_in                     -         (?, 0)              -               \n",
            "G_mapping/Normalize           -         (?, 512)            -               \n",
            "G_mapping/Dense0              262656    (?, 512)            (512, 512)      \n",
            "G_mapping/Dense1              262656    (?, 512)            (512, 512)      \n",
            "G_mapping/Broadcast           -         (?, 16, 512)        -               \n",
            "dlatent_avg                   -         (512,)              -               \n",
            "Truncation/Lerp               -         (?, 16, 512)        -               \n",
            "G_synthesis/4x4/Const         8192      (?, 512, 4, 4)      (1, 512, 4, 4)  \n",
            "G_synthesis/4x4/Conv          2622465   (?, 512, 4, 4)      (3, 3, 512, 512)\n",
            "G_synthesis/4x4/ToRGB         264195    (?, 3, 4, 4)        (1, 1, 512, 3)  \n",
            "G_synthesis/8x8/Conv0_up      2622465   (?, 512, 8, 8)      (3, 3, 512, 512)\n",
            "G_synthesis/8x8/Conv1         2622465   (?, 512, 8, 8)      (3, 3, 512, 512)\n",
            "G_synthesis/8x8/Upsample      -         (?, 3, 8, 8)        -               \n",
            "G_synthesis/8x8/ToRGB         264195    (?, 3, 8, 8)        (1, 1, 512, 3)  \n",
            "G_synthesis/16x16/Conv0_up    2622465   (?, 512, 16, 16)    (3, 3, 512, 512)\n",
            "G_synthesis/16x16/Conv1       2622465   (?, 512, 16, 16)    (3, 3, 512, 512)\n",
            "G_synthesis/16x16/Upsample    -         (?, 3, 16, 16)      -               \n",
            "G_synthesis/16x16/ToRGB       264195    (?, 3, 16, 16)      (1, 1, 512, 3)  \n",
            "G_synthesis/32x32/Conv0_up    2622465   (?, 512, 32, 32)    (3, 3, 512, 512)\n",
            "G_synthesis/32x32/Conv1       2622465   (?, 512, 32, 32)    (3, 3, 512, 512)\n",
            "G_synthesis/32x32/Upsample    -         (?, 3, 32, 32)      -               \n",
            "G_synthesis/32x32/ToRGB       264195    (?, 3, 32, 32)      (1, 1, 512, 3)  \n",
            "G_synthesis/64x64/Conv0_up    2622465   (?, 512, 64, 64)    (3, 3, 512, 512)\n",
            "G_synthesis/64x64/Conv1       2622465   (?, 512, 64, 64)    (3, 3, 512, 512)\n",
            "G_synthesis/64x64/Upsample    -         (?, 3, 64, 64)      -               \n",
            "G_synthesis/64x64/ToRGB       264195    (?, 3, 64, 64)      (1, 1, 512, 3)  \n",
            "G_synthesis/128x128/Conv0_up  1442561   (?, 256, 128, 128)  (3, 3, 512, 256)\n",
            "G_synthesis/128x128/Conv1     721409    (?, 256, 128, 128)  (3, 3, 256, 256)\n",
            "G_synthesis/128x128/Upsample  -         (?, 3, 128, 128)    -               \n",
            "G_synthesis/128x128/ToRGB     132099    (?, 3, 128, 128)    (1, 1, 256, 3)  \n",
            "G_synthesis/256x256/Conv0_up  426369    (?, 128, 256, 256)  (3, 3, 256, 128)\n",
            "G_synthesis/256x256/Conv1     213249    (?, 128, 256, 256)  (3, 3, 128, 128)\n",
            "G_synthesis/256x256/Upsample  -         (?, 3, 256, 256)    -               \n",
            "G_synthesis/256x256/ToRGB     66051     (?, 3, 256, 256)    (1, 1, 128, 3)  \n",
            "G_synthesis/512x512/Conv0_up  139457    (?, 64, 512, 512)   (3, 3, 128, 64) \n",
            "G_synthesis/512x512/Conv1     69761     (?, 64, 512, 512)   (3, 3, 64, 64)  \n",
            "G_synthesis/512x512/Upsample  -         (?, 3, 512, 512)    -               \n",
            "G_synthesis/512x512/ToRGB     33027     (?, 3, 512, 512)    (1, 1, 64, 3)   \n",
            "---                           ---       ---                 ---             \n",
            "Total                         28700647                                      \n",
            "\n",
            "Looking up training options from \"/content/drive/MyDrive/StyleGan2/stylegan2-ada/results/00002-data-mirror-auto1-bg-resumecustom/training_options.json\"...\n",
            "\n",
            "Dataset options:\n",
            "{\n",
            "  \"path\": \"./datasets/data\",\n",
            "  \"max_label_size\": 0,\n",
            "  \"resolution\": 512,\n",
            "  \"mirror_augment\": true\n",
            "}\n",
            "\n",
            "Evaluating fid50k_full...\n",
            "Downloading https://nvlabs-fi-cdn.nvidia.com/stylegan2-ada/pretrained/metrics/inception_v3_features.pkl ... done\n",
            "Calculating real image statistics for fid50k_full...\n",
            "tcmalloc: large alloc 4294967296 bytes == 0x559ef12c8000 @  0x7fb2ddf88001 0x7fb2db1ae1af 0x7fb2db204c23 0x7fb2db205a87 0x7fb2db2a7823 0x559e9d73a34c 0x559e9d73a120 0x559e9d7aeb80 0x559e9d7a966e 0x559e9d73c36c 0x559e9d77d7b9 0x559e9d77a6d4 0x559e9d73ac29 0x559e9d7aee61 0x559e9d7a902f 0x559e9d67ae2b 0x559e9d7ab633 0x559e9d73b9da 0x559e9d7aa108 0x559e9d82da18 0x559e9d7aa350 0x559e9d7a902f 0x559e9d73baba 0x559e9d7aacd4 0x559e9d7a902f 0x559e9d73baba 0x559e9d7aacd4 0x559e9d7a902f 0x559e9d67ae2b 0x559e9d7ab633 0x559e9d73b9da\n",
            "tcmalloc: large alloc 4294967296 bytes == 0x559ff12c8000 @  0x7fb2ddf861e7 0x7fb2db1ae0ce 0x7fb2db204cf5 0x7fb2db204f4f 0x7fb2db2a7673 0x559e9d73a34c 0x559e9d73a120 0x559e9d7aeb80 0x559e9d7a902f 0x559e9d73baba 0x559e9d7aacd4 0x559e9d7a902f 0x559e9d73baba 0x559e9d7aacd4 0x559e9d7a902f 0x559e9d73baba 0x559e9d7aacd4 0x559e9d73b9da 0x559e9d7a9eae 0x559e9d7a902f 0x559e9d73baba 0x559e9d7ae2c0 0x559e9d7a902f 0x559e9d73baba 0x559e9d7aacd4 0x559e9d7a966e 0x559e9d73c36c 0x559e9d77d7b9 0x559e9d77a6d4 0x559e9d73ac29 0x559e9d7aee61\n",
            "tcmalloc: large alloc 4294967296 bytes == 0x559ff12c8000 @  0x7fb2ddf861e7 0x7fb2db1ae0ce 0x7fb2db204cf5 0x7fb2db204f4f 0x7fb298647235 0x7fb297fca792 0x7fb297fcad42 0x7fb297f83aee 0x559e9d73a317 0x559e9d73a120 0x559e9d7ae679 0x559e9d73b9da 0x559e9d7aa108 0x559e9d7a91c0 0x559e9d67aeb0 0x559e9d7ab633 0x559e9d7a902f 0x559e9d73baba 0x559e9d7aa108 0x559e9d7a966e 0x559e9d73baba 0x559e9d7aa108 0x559e9d73b9da 0x559e9d7aa108 0x559e9d7a902f 0x559e9d73c151 0x559e9d73c571 0x559e9d7ab633 0x559e9d7a902f 0x559e9d73baba 0x559e9d7a9eae\n",
            "network-snapshot-000032        time 27m 07s      fid50k_full 61.1885\n"
          ]
        }
      ],
      "source": [
        "!python calc_metrics.py --metrics=fid50k_full \\\n",
        "    --network={resume_from}"
      ]
    },
    {
      "cell_type": "code",
      "execution_count": null,
      "metadata": {
        "id": "YWC5qiUIZKN4"
      },
      "outputs": [],
      "source": [
        ""
      ]
    },
    {
      "cell_type": "code",
      "execution_count": null,
      "metadata": {
        "id": "iJZr92vCZKQ1"
      },
      "outputs": [],
      "source": [
        ""
      ]
    }
  ],
  "metadata": {
    "accelerator": "GPU",
    "colab": {
      "machine_shape": "hm",
      "name": "StyleGan2.ipynb",
      "provenance": []
    },
    "kernelspec": {
      "display_name": "Python 3",
      "name": "python3"
    },
    "language_info": {
      "name": "python"
    }
  },
  "nbformat": 4,
  "nbformat_minor": 0
}